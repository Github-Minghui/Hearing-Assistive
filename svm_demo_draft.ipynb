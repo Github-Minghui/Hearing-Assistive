{
 "cells": [
  {
   "cell_type": "code",
   "execution_count": 22,
   "metadata": {
    "collapsed": false
   },
   "outputs": [],
   "source": [
    "from hearing_assistive import *\n",
    "import numpy as np\n",
    "\n",
    "%matplotlib inline"
   ]
  },
  {
   "cell_type": "markdown",
   "metadata": {},
   "source": [
    "# Generate Dataset and Targetset"
   ]
  },
  {
   "cell_type": "code",
   "execution_count": 23,
   "metadata": {
    "collapsed": false
   },
   "outputs": [],
   "source": [
    "wave = read_wave('Sounds/school_fire_alarm.wav')\n",
    "wave.normalize()\n",
    "\n",
    "# partition the wave into segments of 2.4 seconds\n",
    "i = 0\n",
    "j = int(2.4 * wave.framerate)  # frames per segment\n",
    "step = int(1.2 * wave.framerate)   # 50% overlap\n",
    "\n",
    "seg_map = []\n",
    "while j < len(wave.ys):\n",
    "    segment = wave.slice(i, j)\n",
    "    seg_map.append(segment)\n",
    "    \n",
    "    i += step\n",
    "    j += step"
   ]
  },
  {
   "cell_type": "code",
   "execution_count": 24,
   "metadata": {
    "collapsed": false
   },
   "outputs": [],
   "source": [
    "data_set = []\n",
    "target_set = []\n",
    "\n",
    "# for i in range(len(seg_map)):\n",
    "#     signal = seg_map[i]\n",
    "#     spectrogram = signal.make_spectrogram(seg_length=1764)  # 1764 = 40ms * 44100fps = samples per 40ms\n",
    "#     feature = spectrogram.mfcc()   # use default parameter, only include coefficients 2-14 (13 coefficients)\n",
    "#     data_set.append(feature)\n",
    "#     target_set.append(2)\n",
    "\n",
    "\n",
    "signal = seg_map[0]\n",
    "spectrogram = signal.make_spectrogram(seg_length=1764)  # 1764 = 40ms * 44100fps = samples per 40ms\n",
    "feature = spectrogram.mfcc()   # use default parameter, only include coefficients 2-14 (13 coefficients)\n",
    "data_set.append(feature)\n",
    "target_set.append(2)"
   ]
  },
  {
   "cell_type": "code",
   "execution_count": 25,
   "metadata": {
    "collapsed": false
   },
   "outputs": [],
   "source": [
    "# add 10 dummy sets to the data set\n",
    "for i in range(10):\n",
    "    dummy_set = np.zeros((119, 13))\n",
    "    data_set.append(dummy_set)\n",
    "    target_set.append(0)"
   ]
  },
  {
   "cell_type": "code",
   "execution_count": 26,
   "metadata": {
    "collapsed": false
   },
   "outputs": [
    {
     "name": "stdout",
     "output_type": "stream",
     "text": [
      "11\n",
      "(11, 119, 13)\n"
     ]
    }
   ],
   "source": [
    "# convert these arrays into numpy arrays\n",
    "data_set = np.asarray(data_set)\n",
    "target_set = np.asarray(target_set)\n",
    "\n",
    "print len(data_set)\n",
    "print data_set.shape"
   ]
  },
  {
   "cell_type": "markdown",
   "metadata": {},
   "source": [
    "# Create and Train SVM Classifier"
   ]
  },
  {
   "cell_type": "code",
   "execution_count": 27,
   "metadata": {
    "collapsed": true
   },
   "outputs": [],
   "source": [
    "from sklearn import linear_model"
   ]
  },
  {
   "cell_type": "code",
   "execution_count": 28,
   "metadata": {
    "collapsed": false
   },
   "outputs": [
    {
     "name": "stdout",
     "output_type": "stream",
     "text": [
      "11\n",
      "(11, 1547)\n",
      "11\n",
      "(11,)\n"
     ]
    }
   ],
   "source": [
    "nsamples, nsegments, coef = data_set.shape\n",
    "data_set = data_set.reshape((nsamples, nsegments * coef))\n",
    "\n",
    "print len(data_set)\n",
    "print data_set.shape\n",
    "print len(target_set)\n",
    "print target_set.shape"
   ]
  },
  {
   "cell_type": "code",
   "execution_count": 29,
   "metadata": {
    "collapsed": false
   },
   "outputs": [
    {
     "data": {
      "text/plain": [
       "SGDClassifier(alpha=0.0001, average=False, class_weight=None, epsilon=0.1,\n",
       "       eta0=0.0, fit_intercept=True, l1_ratio=0.15,\n",
       "       learning_rate='optimal', loss='hinge', n_iter=5, n_jobs=1,\n",
       "       penalty='l2', power_t=0.5, random_state=None, shuffle=True,\n",
       "       verbose=0, warm_start=False)"
      ]
     },
     "execution_count": 29,
     "metadata": {},
     "output_type": "execute_result"
    }
   ],
   "source": [
    "clf = linear_model.SGDClassifier()\n",
    "\n",
    "clf.fit(data_set, target_set)"
   ]
  },
  {
   "cell_type": "markdown",
   "metadata": {},
   "source": [
    "# Create Testing Set and Test SVM"
   ]
  },
  {
   "cell_type": "code",
   "execution_count": 9,
   "metadata": {
    "collapsed": false
   },
   "outputs": [],
   "source": [
    "# create testing set\n",
    "test_set = []\n",
    "\n",
    "signal = seg_map[10]\n",
    "spectrogram = signal.make_spectrogram(seg_length=1764)  # 1764 = 40ms * 44100fps = samples per 40ms\n",
    "feature = spectrogram.mfcc()   # use default parameter, only include coefficients 2-14 (13 coefficients)\n",
    "test_set.append(feature)"
   ]
  },
  {
   "cell_type": "code",
   "execution_count": 10,
   "metadata": {
    "collapsed": false
   },
   "outputs": [],
   "source": [
    "feature = np.zeros((119, 13))\n",
    "test_set.append(feature)"
   ]
  },
  {
   "cell_type": "code",
   "execution_count": 11,
   "metadata": {
    "collapsed": false
   },
   "outputs": [],
   "source": [
    "signal = seg_map[15]\n",
    "spectrogram = signal.make_spectrogram(seg_length=1764)  # 1764 = 40ms * 44100fps = samples per 40ms\n",
    "feature = spectrogram.mfcc()   # use default parameter, only include coefficients 2-14 (13 coefficients)\n",
    "test_set.append(feature)"
   ]
  },
  {
   "cell_type": "code",
   "execution_count": 12,
   "metadata": {
    "collapsed": false
   },
   "outputs": [],
   "source": [
    "test_set = np.asarray(test_set)\n",
    "nsamples, nsegments, coef = test_set.shape\n",
    "test_set = test_set.reshape((nsamples, nsegments * coef))"
   ]
  },
  {
   "cell_type": "code",
   "execution_count": 13,
   "metadata": {
    "collapsed": false
   },
   "outputs": [
    {
     "data": {
      "text/plain": [
       "array([2, 0, 2])"
      ]
     },
     "execution_count": 13,
     "metadata": {},
     "output_type": "execute_result"
    }
   ],
   "source": [
    "clf.predict(test_set)"
   ]
  },
  {
   "cell_type": "markdown",
   "metadata": {},
   "source": [
    "# Introduce New Data"
   ]
  },
  {
   "cell_type": "code",
   "execution_count": 14,
   "metadata": {
    "collapsed": false
   },
   "outputs": [
    {
     "name": "stdout",
     "output_type": "stream",
     "text": [
      "22050\n"
     ]
    }
   ],
   "source": [
    "wave = read_wave('Sounds/police_siren.wav')\n",
    "print wave.framerate\n",
    "\n",
    "i = 0\n",
    "j = int(2.4 * wave.framerate)  # frames per segment\n",
    "step = int(1.2 * wave.framerate)   # 50% overlap\n",
    "\n",
    "seg_map = []\n",
    "while j < len(wave.ys):\n",
    "    segment = wave.slice(i, j)\n",
    "    seg_map.append(segment)\n",
    "    \n",
    "    i += step\n",
    "    j += step"
   ]
  },
  {
   "cell_type": "code",
   "execution_count": 15,
   "metadata": {
    "collapsed": false
   },
   "outputs": [],
   "source": [
    "data_set = []\n",
    "target_set = []\n",
    "\n",
    "for i in range(len(seg_map)):\n",
    "    signal = seg_map[i]\n",
    "    spectrogram = signal.make_spectrogram(seg_length=882)  # 882 = 40ms * 22050fps = samples per 40ms\n",
    "    feature = spectrogram.mfcc(blocksize=442)   # use default parameter, only include coefficients 2-14 (13 coefficients)\n",
    "    data_set.append(feature)\n",
    "    target_set.append(3)"
   ]
  },
  {
   "cell_type": "code",
   "execution_count": 16,
   "metadata": {
    "collapsed": false
   },
   "outputs": [],
   "source": [
    "data_set = np.asarray(data_set)\n",
    "target_set = np.asarray(target_set)"
   ]
  },
  {
   "cell_type": "code",
   "execution_count": 17,
   "metadata": {
    "collapsed": true
   },
   "outputs": [],
   "source": [
    "nsamples, nsegments, coef = data_set.shape\n",
    "data_set = data_set.reshape((nsamples, nsegments * coef))"
   ]
  },
  {
   "cell_type": "code",
   "execution_count": 18,
   "metadata": {
    "collapsed": false
   },
   "outputs": [
    {
     "data": {
      "text/plain": [
       "SGDClassifier(alpha=0.0001, average=False, class_weight=None, epsilon=0.1,\n",
       "       eta0=0.0, fit_intercept=True, l1_ratio=0.15,\n",
       "       learning_rate='optimal', loss='hinge', n_iter=5, n_jobs=1,\n",
       "       penalty='l2', power_t=0.5, random_state=None, shuffle=True,\n",
       "       verbose=0, warm_start=False)"
      ]
     },
     "execution_count": 18,
     "metadata": {},
     "output_type": "execute_result"
    }
   ],
   "source": [
    "from copy import copy\n",
    "\n",
    "clf2 = copy(clf)\n",
    "\n",
    "clf2.partial_fit(data_set, target_set)"
   ]
  },
  {
   "cell_type": "code",
   "execution_count": 19,
   "metadata": {
    "collapsed": false
   },
   "outputs": [],
   "source": [
    "new_test_set = []\n",
    "new_test_set.append(test_set[0])\n",
    "new_test_set.append(test_set[1])\n",
    "new_test_set.append(test_set[2])\n",
    "\n",
    "signal = seg_map[5]\n",
    "spectrogram = signal.make_spectrogram(seg_length=882)  # 882 = 40ms * 22050fps = samples per 40ms\n",
    "feature = spectrogram.mfcc(blocksize=442)   # use default parameter, only include coefficients 2-14 (13 coefficients)\n",
    "nsegments, coef = feature.shape\n",
    "feature = feature.reshape(nsegments * coef)\n",
    "new_test_set.append(feature)\n",
    "\n",
    "feature = np.zeros((119, 13))\n",
    "feature += 100\n",
    "nsegments, coef = feature.shape\n",
    "feature = feature.reshape(nsegments * coef)\n",
    "new_test_set.append(feature)\n"
   ]
  },
  {
   "cell_type": "code",
   "execution_count": 20,
   "metadata": {
    "collapsed": false
   },
   "outputs": [
    {
     "data": {
      "text/plain": [
       "array([2, 0, 2, 0, 2])"
      ]
     },
     "execution_count": 20,
     "metadata": {},
     "output_type": "execute_result"
    }
   ],
   "source": [
    "new_test_set = np.asarray(new_test_set)\n",
    "clf2.predict(new_test_set)"
   ]
  },
  {
   "cell_type": "code",
   "execution_count": null,
   "metadata": {
    "collapsed": false
   },
   "outputs": [],
   "source": []
  }
 ],
 "metadata": {
  "kernelspec": {
   "display_name": "Python 2",
   "language": "python",
   "name": "python2"
  },
  "language_info": {
   "codemirror_mode": {
    "name": "ipython",
    "version": 2
   },
   "file_extension": ".py",
   "mimetype": "text/x-python",
   "name": "python",
   "nbconvert_exporter": "python",
   "pygments_lexer": "ipython2",
   "version": "2.7.11"
  }
 },
 "nbformat": 4,
 "nbformat_minor": 0
}
